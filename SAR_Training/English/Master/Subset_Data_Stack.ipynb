{
 "cells": [
  {
   "cell_type": "markdown",
   "metadata": {},
   "source": [
    "<img src=\"NotebookAddons/blackboard-banner.jpg\" width=\"100%\" />\n",
    "<font face=\"Calibri\">\n",
    "<br>\n",
    "<font size=\"5\"><b>Subset Data Stack</b><img style=\"padding: 7px\" src=\"NotebookAddons/UAFLogo_A_647.png\" width=\"170\" align=\"right\"/></font>\n",
    "\n",
    "<br>\n",
    "<font size=\"4\"> <b>Alex Lewandowski; University of Alaska Fairbanks</b> <br>\n",
    "</font>\n",
    "\n",
    "<font size=\"3\"> This notebook crops a directory of tiffs to a subset area of interest using an interactive Bokeh map.\n",
    "<font>\n",
    "</font>"
   ]
  },
  {
   "cell_type": "markdown",
   "metadata": {},
   "source": [
    "<hr>\n",
    "<font face=\"Calibri\" size=\"5\" color=\"red\"> <b>Important Note about JupyterHub</b> </font>\n",
    "<br><br>\n",
    "<font face=\"Calibri\" size=\"3\"> <b>Your JupyterHub server will automatically shutdown when left idle for more than 1 hour. Your notebooks will not be lost but you will have to restart their kernels and re-run them from the beginning. You will not be able to seamlessly continue running a partially run notebook.</b> </font>\n"
   ]
  },
  {
   "cell_type": "markdown",
   "metadata": {},
   "source": [
    "<hr>\n",
    "<font face=\"Calibri\">\n",
    "\n",
    "<font size=\"5\"> <b> 0. Importing Relevant Python Packages </b> </font>\n",
    "\n",
    "<font size=\"3\">In this notebook we will use the following scientific library:\n",
    "<ol type=\"1\">\n",
    "    <li> <b><a href=\"https://www.gdal.org/\" target=\"_blank\">GDAL</a></b> is a software library for reading and writing raster and vector geospatial data formats. It includes a collection of programs tailored for geospatial data processing. Most modern GIS systems (such as ArcGIS or QGIS) use GDAL in the background.</li>\n",
    "\n",
    "</font>\n"
   ]
  },
  {
   "cell_type": "markdown",
   "metadata": {},
   "source": [
    "<font face=\"Calibri\" size=\"4\" color=\"red\"><b>IMPORTANT</b></font>\n",
    "<br><br>\n",
    "<font face=\"Calibri\" size=\"3\"><b>The first time you run a notebook containing an interactive Bokeh plot, you must first enable the jupyter serverextension by running the code cell below. It won't be enabled until the server is restarted. Before completing the rest of this notebook, run the cell below, click the \"Control Panel\" button at the top-right of the screen, click the \"Stop My Server\" button that appears, and then the \"Start My Server\" button. Finally, restart the notebook and run as normal.</b>\n",
    "<br><br>\n",
    "The code cell below may be commented out after performing the steps descibed above once.</font>"
   ]
  },
  {
   "cell_type": "code",
   "execution_count": null,
   "metadata": {},
   "outputs": [],
   "source": [
    "!jupyter serverextension enable --py nbserverproxy"
   ]
  },
  {
   "cell_type": "markdown",
   "metadata": {},
   "source": [
    "<font face=\"Calibri\" size=\"3\"><b>Import the necesssary libraries and modules:</b> </font>"
   ]
  },
  {
   "cell_type": "code",
   "execution_count": null,
   "metadata": {},
   "outputs": [],
   "source": [
    "import os\n",
    "import glob\n",
    "import json # for loads\n",
    "import shutil\n",
    "\n",
    "import gdal\n",
    "\n",
    "from pyproj import Proj, transform\n",
    "\n",
    "from bokeh.io import output_notebook\n",
    "\n",
    "from asf_notebook import new_directory\n",
    "from asf_notebook import path_exists\n",
    "from asf_notebook import remove_nan_filled_tifs\n",
    "from asf_notebook import remote_jupyter_proxy_url\n",
    "from asf_notebook import AOI\n",
    "from asf_notebook import select_parameter"
   ]
  },
  {
   "cell_type": "markdown",
   "metadata": {},
   "source": [
    "<font face=\"Calibri\" size=\"3\"><b>Setup interactive Bokeh plotting</b> inside the notebook:</font>"
   ]
  },
  {
   "cell_type": "code",
   "execution_count": null,
   "metadata": {},
   "outputs": [],
   "source": [
    "output_notebook()"
   ]
  },
  {
   "cell_type": "markdown",
   "metadata": {},
   "source": [
    "<hr>\n",
    "<font face=\"Calibri\" size=\"3\"><b>Write functions to gather and print individual tiff paths:</b> </font>"
   ]
  },
  {
   "cell_type": "code",
   "execution_count": null,
   "metadata": {},
   "outputs": [],
   "source": [
    "def get_tiff_paths(paths):\n",
    "    tiff_paths = !ls $paths | sort -t_ -k5,5\n",
    "    return tiff_paths\n",
    "\n",
    "def print_tiff_paths(tiff_paths):\n",
    "    print(\"Tiff paths:\")\n",
    "    for p in tiff_paths:\n",
    "        print(f\"{p}\\n\")"
   ]
  },
  {
   "cell_type": "markdown",
   "metadata": {},
   "source": [
    "<font face=\"Calibri\" size=\"3\"><b>Enter the path to the directory holding your tiffs:</b> </font>"
   ]
  },
  {
   "cell_type": "code",
   "execution_count": null,
   "metadata": {},
   "outputs": [],
   "source": [
    "while True:\n",
    "    print(\"Enter the absolute path to the directory holding your tiffs.\")\n",
    "    tiff_dir = input()\n",
    "    paths = f\"{tiff_dir}/*.tif\"\n",
    "    if os.path.exists(tiff_dir):\n",
    "        tiff_paths = get_tiff_paths(paths)\n",
    "        if len(tiff_paths) < 1:\n",
    "            print(f\"{tiff_dir} exists but contains no tifs.\")\n",
    "            print(\"You will not be able to proceed until tifs are prepared.\")\n",
    "        break\n",
    "    else:\n",
    "        print(f\"\\n{tiff_dir} does not exist.\")\n",
    "        continue"
   ]
  },
  {
   "cell_type": "markdown",
   "metadata": {},
   "source": [
    "<font face=\"Calibri\" size=\"3\"><b>Determine the path to the analysis directory containing the tiff directory:</b> </font>"
   ]
  },
  {
   "cell_type": "code",
   "execution_count": null,
   "metadata": {},
   "outputs": [],
   "source": [
    "analysis_dir = os.path.dirname(tiff_dir)\n",
    "print(analysis_dir)"
   ]
  },
  {
   "cell_type": "markdown",
   "metadata": {},
   "source": [
    "<font face=\"Calibri\" size=\"3\"><b>Determine the UTM zone for your images.</b> This assumes you have already reprojected any tiffs with errant UTM zones to a single predominae UTM zone, using the Prepare_Data_Stack_Hyp3 notebook.</font>"
   ]
  },
  {
   "cell_type": "code",
   "execution_count": null,
   "metadata": {},
   "outputs": [],
   "source": [
    "info = (gdal.Info(tiff_paths[0], options = ['-json']))\n",
    "info = (json.loads(info))['coordinateSystem']['wkt']\n",
    "utm = info.split('\"EPSG\",\"')[-1].split('\"')[0]\n",
    "print(f\"UTM Zone: {utm}\")"
   ]
  },
  {
   "cell_type": "markdown",
   "metadata": {},
   "source": [
    "<hr>\n",
    "<font face=\"Calibri\">\n",
    "\n",
    "<font size=\"5\"> <b>Subset The Tiffs</b> </font> \n",
    "\n",
    "<font size=\"3\"><b>As a first step, retrieve the maximum extent coordinates for the image stack so we can zoom into the coverage area on the Bokeh map:</b>\n",
    "</font> \n",
    "</font>"
   ]
  },
  {
   "cell_type": "code",
   "execution_count": null,
   "metadata": {},
   "outputs": [],
   "source": [
    "lower_left = [30000000, 30000000]\n",
    "upper_right = [-30000000, -30000000]\n",
    "for p in tiff_paths:\n",
    "    info = (gdal.Info(p, options = ['-json']))\n",
    "    l_l = (json.loads(info))['cornerCoordinates']['lowerLeft']\n",
    "    u_r = (json.loads(info))['cornerCoordinates']['upperRight']\n",
    "    if l_l[0] < lower_left[0]:\n",
    "        lower_left[0] = l_l[0]\n",
    "    if l_l[1] < lower_left[1]:\n",
    "        lower_left[1] = l_l[1]\n",
    "    if u_r[0] > upper_right[0]:\n",
    "        upper_right[0] = u_r[0]\n",
    "    if u_r[1] > upper_right[1]:\n",
    "        upper_right[1] = u_r[1]"
   ]
  },
  {
   "cell_type": "markdown",
   "metadata": {},
   "source": [
    "<font face=\"Calibri\" size=\"3\"> <b>Convert the coordinates to EPSG:3857 (web-mercator), which is the projection used by Bokeh:</b> </font> "
   ]
  },
  {
   "cell_type": "code",
   "execution_count": null,
   "metadata": {},
   "outputs": [],
   "source": [
    "out_proj = Proj(init=\"epsg:3857\") #web mercator\n",
    "in_proj = Proj(init=f\"epsg:{utm}\")\n",
    "lower_left[0], lower_left[1] = transform(in_proj, out_proj, lower_left[0], lower_left[1])\n",
    "upper_right[0], upper_right[1] = transform(in_proj, out_proj, upper_right[0], upper_right[1])\n",
    "print(f\"Lower Left Coord: {lower_left}\")\n",
    "print(f\"Upper Right Coord: {upper_right}\")"
   ]
  },
  {
   "cell_type": "markdown",
   "metadata": {},
   "source": [
    "<font face=\"Calibri\" size=\"3\"><b>Create and display an interactive Area-of-Interest selector:</b></font> "
   ]
  },
  {
   "cell_type": "code",
   "execution_count": null,
   "metadata": {},
   "outputs": [],
   "source": [
    "aoi = AOI(lower_left, upper_right)\n",
    "aoi.display_AOI()"
   ]
  },
  {
   "cell_type": "markdown",
   "metadata": {},
   "source": [
    "<font face=\"Calibri\" size=\"3\"> <b>Convert the EPSG:3857 coords back to the predominate EPSG in the data stack:</b></font> "
   ]
  },
  {
   "cell_type": "code",
   "execution_count": null,
   "metadata": {},
   "outputs": [],
   "source": [
    "if not aoi.subset_coords[0][0]:\n",
    "    print(f\"WARNING: You must select a subset area of interest in the previous cell before continuing.\")\n",
    "    print(f\"\\nPlease make a selection and rerun this code cell.\")\n",
    "else:\n",
    "    in_proj = Proj(init=\"epsg:3857\")\n",
    "    out_proj = Proj(init=f\"epsg:{utm}\")\n",
    "    coords = [[None, None], [None, None]]\n",
    "    coords[0][0], coords[0][1] = transform(in_proj, out_proj, \n",
    "                                           aoi.subset_coords[0][0], \n",
    "                                           aoi.subset_coords[1][1])\n",
    "    coords[1][0], coords[1][1] = transform(in_proj, out_proj, \n",
    "                                           aoi.subset_coords[1][0], \n",
    "                                           aoi.subset_coords[0][1])\n",
    "    print(coords)"
   ]
  },
  {
   "cell_type": "markdown",
   "metadata": {},
   "source": [
    "<font size=\"3\"> <b>Update the list of all the absolute paths of the tiffs:</b> </font> "
   ]
  },
  {
   "cell_type": "code",
   "execution_count": null,
   "metadata": {},
   "outputs": [],
   "source": [
    "tiff_paths = get_tiff_paths(paths)\n",
    "#print_tiff_paths(tiff_paths)"
   ]
  },
  {
   "cell_type": "code",
   "execution_count": null,
   "metadata": {},
   "outputs": [],
   "source": [
    "print(\"Choose a directory name in which to store the subset geotiffs.\")\n",
    "print(\"Note: this will sit alongside the directory containing your pre-subset geotiffs.\")\n",
    "while True:\n",
    "    sub_name = input()\n",
    "    if sub_name == \"\":\n",
    "        print(\"Please enter a valid directory name\")\n",
    "        continue\n",
    "    else:\n",
    "        break"
   ]
  },
  {
   "cell_type": "markdown",
   "metadata": {},
   "source": [
    "<font size=\"3\"><b>Subset the tiffs and move them from the individual product directories into their own directory, /tiffs:</b></font> "
   ]
  },
  {
   "cell_type": "code",
   "execution_count": null,
   "metadata": {},
   "outputs": [],
   "source": [
    "subset_dir = f\"{analysis_dir}/{sub_name}/\"\n",
    "new_directory(subset_dir)\n",
    "for i, tiff_path in enumerate(tiff_paths):\n",
    "    date = tiff_path.split('/')[-1].split('_')[3].split('T')[0]\n",
    "    polarization = tiff_path.split('/')[-1].split('_')[6][0:2]\n",
    "    print(f\"\\nProduct #{i+1}:\")\n",
    "    gdal_command = f\"gdal_translate -projwin {coords[0][0]} {coords[0][1]} {coords[1][0]} {coords[1][1]} -projwin_srs 'EPSG:{utm}' -co \\\"COMPRESS=DEFLATE\\\" -a_nodata 0 {tiff_path} {subset_dir}{date}_{polarization}.tiff\"\n",
    "    print(f\"Calling the command: {gdal_command}\")\n",
    "    !{gdal_command}"
   ]
  },
  {
   "cell_type": "markdown",
   "metadata": {},
   "source": [
    "<font size=\"3\"><b>Delete any subset tifs that are filled with NaNs and contain no data.</b></font>"
   ]
  },
  {
   "cell_type": "code",
   "execution_count": null,
   "metadata": {},
   "outputs": [],
   "source": [
    "subset_paths = f\"{subset_dir}*.tiff\"\n",
    "tiff_paths = get_tiff_paths(subset_paths)\n",
    "remove_nan_filled_tifs(subset_dir, tiff_paths)"
   ]
  },
  {
   "cell_type": "markdown",
   "metadata": {},
   "source": [
    "<font size=\"3\"><b>Decide whether or not to cleanup the original tiffs:</b></font> "
   ]
  },
  {
   "cell_type": "code",
   "execution_count": null,
   "metadata": {},
   "outputs": [],
   "source": [
    "cleanup = select_parameter('', [\"Save original tiffs\", \"Delete original tiffs\"])\n",
    "cleanup"
   ]
  },
  {
   "cell_type": "code",
   "execution_count": null,
   "metadata": {},
   "outputs": [],
   "source": [
    "if cleanup.value == 'Delete original tiffs':\n",
    "    shutil.rmtree(tiff_dir)"
   ]
  },
  {
   "cell_type": "markdown",
   "metadata": {},
   "source": [
    "<font size=\"3\"><b>Print the path to your subset directory:</b></font> "
   ]
  },
  {
   "cell_type": "code",
   "execution_count": null,
   "metadata": {},
   "outputs": [],
   "source": [
    "print(subset_dir[:-1])"
   ]
  },
  {
   "cell_type": "markdown",
   "metadata": {},
   "source": [
    "<font face=\"Calibri\" size=\"2\"> <i>GEOS 657 Microwave Remote Sensing - Version 1.0 - April 2019 </i>\n",
    "</font>"
   ]
  }
 ],
 "metadata": {
  "kernelspec": {
   "display_name": "Python 3",
   "language": "python",
   "name": "python3"
  },
  "language_info": {
   "codemirror_mode": {
    "name": "ipython",
    "version": 3
   },
   "file_extension": ".py",
   "mimetype": "text/x-python",
   "name": "python",
   "nbconvert_exporter": "python",
   "pygments_lexer": "ipython3",
   "version": "3.7.3"
  }
 },
 "nbformat": 4,
 "nbformat_minor": 2
}
